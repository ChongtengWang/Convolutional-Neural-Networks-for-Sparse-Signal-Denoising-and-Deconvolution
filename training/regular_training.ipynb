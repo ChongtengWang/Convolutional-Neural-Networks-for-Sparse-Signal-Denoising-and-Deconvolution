{
  "cells": [
    {
      "cell_type": "code",
      "execution_count": null,
      "metadata": {
        "id": "OblzhGZQeUrO"
      },
      "outputs": [],
      "source": [
        "import scipy.io as sio\n",
        "from torch.utils.data import DataLoader \n",
        "import torch\n",
        "from torch import nn\n",
        "import numpy as np\n",
        "from torchsummary import summary\n",
        "import matplotlib.pyplot as plt\n",
        "import torch.nn.functional as F"
      ]
    },
    {
      "cell_type": "code",
      "execution_count": null,
      "metadata": {
        "id": "5yUq685KeWh-"
      },
      "outputs": [],
      "source": [
        "from google.colab import drive\n",
        "drive.mount('/content/drive')"
      ]
    },
    {
      "cell_type": "code",
      "execution_count": null,
      "metadata": {
        "id": "XfhXBb4NeYRy"
      },
      "outputs": [],
      "source": [
        "# Load the training dataset from google drive\n",
        "filename1 = '/content/drive/MyDrive/denoiser/deconvolver_sin1.mat'\n",
        "batch_size = 64\n",
        "\n",
        "data1 = sio.loadmat(filename1)\n",
        "\n",
        "train1 = data1['train']\n",
        "test1 = data1['test']\n",
        "\n",
        "train_data = DataLoader(train1,batch_size=batch_size,shuffle=True,num_workers=2)\n",
        "test_data = DataLoader(test1,batch_size=batch_size,shuffle=True,num_workers=2)"
      ]
    },
    {
      "cell_type": "code",
      "execution_count": null,
      "metadata": {
        "id": "HrTVZuASea3c"
      },
      "outputs": [],
      "source": [
        "# Define the CNN\n",
        "class denoiser(nn.Module):\n",
        "  def __init__(self):\n",
        "    super(denoiser,self).__init__()\n",
        "    self.conv = nn.Sequential(\n",
        "\n",
        "        nn.Conv1d(1,2,kernel_size=9,padding=4,bias=False),\n",
        "        nn.ReLU(inplace=True),\n",
        "\n",
        "        nn.Conv1d(2,2,kernel_size=17,padding=8,bias=False),\n",
        "        nn.ReLU(inplace=True),\n",
        "\n",
        "        nn.Conv1d(2,2,kernel_size=17,padding=8,bias=False),\n",
        "        nn.ReLU(inplace=True),\n",
        "\n",
        "        nn.Conv1d(2,2,kernel_size=37,padding=18,bias=False),\n",
        "        nn.ReLU(inplace=True),\n",
        "\n",
        "        nn.Conv1d(2,1,kernel_size=9,padding=4,bias=False)\n",
        "    )\n",
        "\n",
        "  def forward(self,x):\n",
        "    \n",
        "    x = self.conv(x)\n",
        "    return x"
      ]
    },
    {
      "cell_type": "code",
      "execution_count": null,
      "metadata": {
        "id": "H3Cs7losWV5c"
      },
      "outputs": [],
      "source": [
        "model = denoiser()\n",
        "# Load the pre-set CNN as initialization\n",
        "weight = sio.loadmat('/content/drive/MyDrive/denoiser/deconv22_pre.mat')\n",
        "for i in range(9):\n",
        "  if i%2==0:\n",
        "    model._modules['conv'][i]._parameters['weight'].data = torch.from_numpy(weight['conv'+str(i//2+1)])\n",
        "\n",
        "# Initialize the trainable layers with random values\n",
        "model._modules['conv'][2]._parameters['weight'].data = torch.rand(2,2,17)\n",
        "model._modules['conv'][4]._parameters['weight'].data = torch.rand(2,2,17)\n",
        "\n",
        "# Set non-trainable layers\n",
        "for name,value in model.named_parameters():\n",
        "  if (name=='conv.0.weight')|(name=='conv.6.weight')|(name=='conv.8.weight'):\n",
        "    value.requires_grad = False"
      ]
    },
    {
      "cell_type": "code",
      "execution_count": null,
      "metadata": {
        "id": "DK_o9jIle7nL"
      },
      "outputs": [],
      "source": [
        "# Set training parameters\n",
        "epochs = 700\n",
        "device = torch.device(\"cuda:0\")\n",
        "model = model.to(device)\n",
        "optimizer = torch.optim.Adam(filter(lambda p: p.requires_grad, model.parameters()),lr=1e-3)\n",
        "#optimizer = torch.optim.SGD(model.parameters(),lr=1e-3)\n",
        "scheduler = torch.optim.lr_scheduler.StepLR(optimizer,step_size=300,gamma=0.1)\n",
        "loss = nn.MSELoss().to(device)\n",
        "summary(model, (1, 500))"
      ]
    },
    {
      "cell_type": "code",
      "execution_count": null,
      "metadata": {
        "id": "pb2OgbZIfAY6"
      },
      "outputs": [],
      "source": [
        "# Train the CNN\n",
        "train_loss_epoch = []\n",
        "test_loss_epoch = []\n",
        "for epoch in range(epochs):\n",
        "  train_losses = []\n",
        "  test_losses = []\n",
        "  for training in train_data:\n",
        "    model.train()\n",
        "    x_train = training[:,0,:].view(-1,1,500).type(torch.FloatTensor).to(device)\n",
        "    y_train = training[:,2,:].view(-1,1,500).type(torch.FloatTensor).to(device)\n",
        "    optimizer.zero_grad()\n",
        "    y_pred = model(x_train)\n",
        "    loss_train = loss(y_pred,y_train)\n",
        "    loss_train.backward()\n",
        "    optimizer.step()\n",
        "    train_losses.append(loss_train.item())\n",
        "  train_loss_epoch.append(np.mean(train_losses))\n",
        "  scheduler.step()\n",
        "\n",
        "  for testing in test_data:\n",
        "    model.eval()\n",
        "    x_test = testing[:,0,:].view(-1,1,500).type(torch.FloatTensor).to(device)\n",
        "    y_test = testing[:,2,:].view(-1,1,500).type(torch.FloatTensor).to(device)\n",
        "    y_pred = model(x_test)\n",
        "    loss_test = loss(y_pred,y_test)\n",
        "    test_losses.append(loss_test.item())\n",
        "  test_loss_epoch.append(np.mean(test_losses))\n",
        "\n",
        "  if (epoch%5)==0:\n",
        "    print(\"Epoch: %d      train loss: %f      test loss: %f\" %(epoch,np.mean(train_losses),np.mean(test_losses)))\n",
        "\n",
        "  if ((epoch%100)==99)|(epoch==0):\n",
        "    signal = y_test.view(-1,500).cpu().detach().numpy()\n",
        "    denoised = y_pred.view(-1,500).cpu().detach().numpy()\n",
        "    noisy = x_test.view(-1,500).cpu().detach().numpy()\n",
        "    plt.figure(figsize=(10,10))\n",
        "    plt.subplot(3,1,1)\n",
        "    plt.plot(signal[0])\n",
        "    plt.title('Pure Signal')\n",
        "    plt.subplot(3,1,2)\n",
        "    plt.plot(denoised[0])\n",
        "    plt.title('Denoised Signal')\n",
        "    plt.subplot(3,1,3)\n",
        "    plt.plot(noisy[0])\n",
        "    plt.title('Signal with Noise')\n"
      ]
    },
    {
      "cell_type": "code",
      "execution_count": null,
      "metadata": {
        "id": "1qnV57TzP5_6"
      },
      "outputs": [],
      "source": [
        "# Save the trained CNN\n",
        "weight_trained = dict()\n",
        "for i in range(9):\n",
        "  if i%2==0:\n",
        "    weight_trained['conv'+str(i//2+1)] = model._modules['conv'][i]._parameters['weight'].data.cpu().numpy()\n",
        "sio.savemat('/content/drive/MyDrive/denoiser/deconv22.mat', mdict=weight_trained)"
      ]
    }
  ],
  "metadata": {
    "accelerator": "GPU",
    "colab": {
      "collapsed_sections": [],
      "name": "regular training",
      "provenance": []
    },
    "kernelspec": {
      "display_name": "Python 3",
      "name": "python3"
    },
    "language_info": {
      "name": "python"
    }
  },
  "nbformat": 4,
  "nbformat_minor": 0
}
