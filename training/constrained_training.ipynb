{
  "cells": [
    {
      "cell_type": "code",
      "execution_count": null,
      "metadata": {
        "id": "OblzhGZQeUrO"
      },
      "outputs": [],
      "source": [
        "import scipy.io as sio\n",
        "from torch.utils.data import DataLoader \n",
        "import torch\n",
        "from torch import nn\n",
        "import numpy as np\n",
        "from torchsummary import summary\n",
        "import matplotlib.pyplot as plt\n",
        "import torch.nn.functional as F"
      ]
    },
    {
      "cell_type": "code",
      "execution_count": null,
      "metadata": {
        "id": "5yUq685KeWh-"
      },
      "outputs": [],
      "source": [
        "from google.colab import drive\n",
        "drive.mount('/content/drive')"
      ]
    },
    {
      "cell_type": "code",
      "execution_count": null,
      "metadata": {
        "id": "XfhXBb4NeYRy"
      },
      "outputs": [],
      "source": [
        "# Load the training dataset from google drive\n",
        "filename1 = '/content/drive/MyDrive/denoiser/deconvolver_sin1.mat'\n",
        "batch_size = 64\n",
        "\n",
        "data1 = sio.loadmat(filename1)\n",
        "\n",
        "train1 = data1['train']\n",
        "test1 = data1['test']\n",
        "\n",
        "train_data = DataLoader(train1,batch_size=batch_size,shuffle=True,num_workers=2)\n",
        "test_data = DataLoader(test1,batch_size=batch_size,shuffle=True,num_workers=2)"
      ]
    },
    {
      "cell_type": "code",
      "execution_count": null,
      "metadata": {
        "id": "1qCbzdyvudi5"
      },
      "outputs": [],
      "source": [
        "# Define the CNN\n",
        "class denoiser(nn.Module):\n",
        "  def __init__(self):\n",
        "    super(denoiser,self).__init__()\n",
        "\n",
        "    self.C0 = nn.Conv1d(1,2,kernel_size=17,padding=8,bias=False)\n",
        "\n",
        "    self.C1 = nn.Conv1d(2,1,kernel_size=17,padding=8,bias=False)\n",
        "\n",
        "    self.C2 = nn.Conv1d(2,1,kernel_size=17,padding=8,bias=False)\n",
        "\n",
        "    self.C3 = nn.Conv1d(2,2,kernel_size=37,padding=18,bias=False)\n",
        "    \n",
        "    self.C4 = nn.Conv1d(2,1,kernel_size=9,padding=4,bias=False)\n",
        "\n",
        "  # Contrained training\n",
        "  def forward(self,x):\n",
        "\n",
        "    x_1 = F.relu(self.C0(x))\n",
        "\n",
        "    # In layer 2, contrain that the filter (1,1) is the same as (2,2), and (1,2) is the same as (2,1)\n",
        "    xp_2 = F.relu(self.C1(x_1))                         \n",
        "    xn_2 = F.relu(F.conv1d(x_1,torch.flip(self.C1.weight,[1]),padding=8))\n",
        "    x_2 = torch.cat((xp_2,xn_2),axis=1)\n",
        "\n",
        "    # In layer 3, contrain that the filter (1,1) is the same as (2,2), and (1,2) is the same as (2,1)\n",
        "    xp_3 = F.relu(self.C2(x_2))                    \n",
        "    xn_3 = F.relu(F.conv1d(x_2,torch.flip(self.C2.weight,[1]),padding=8))\n",
        "    x_3 = torch.cat((xp_3,xn_3),axis=1)\n",
        "\n",
        "    x = F.relu(self.C3(x_3))\n",
        "    x = self.C4(x)\n",
        "\n",
        "    return x"
      ]
    },
    {
      "cell_type": "code",
      "execution_count": null,
      "metadata": {
        "id": "gkg_1NEYD3Ss"
      },
      "outputs": [],
      "source": [
        "model = denoiser()\n",
        "# Load the pre-set CNN as initialization\n",
        "weight = sio.loadmat('/content/drive/MyDrive/denoiser/sin23_2.mat')\n",
        "model._modules['C0']._parameters['weight'].data = torch.from_numpy(weight['conv1'])\n",
        "model._modules['C3']._parameters['weight'].data = torch.from_numpy(weight['conv4'])\n",
        "model._modules['C4']._parameters['weight'].data = torch.from_numpy(weight['conv5'])\n",
        "\n",
        "# Set non-trainable layers\n",
        "for name,value in model.named_parameters():\n",
        "  if (name=='C0.weight')|(name=='C3.weight')|(name=='C4.weight'):\n",
        "    value.requires_grad = False"
      ]
    },
    {
      "cell_type": "code",
      "execution_count": null,
      "metadata": {
        "id": "LSGfBTPVEStx"
      },
      "outputs": [],
      "source": [
        "# Set training parameters\n",
        "epochs = 700\n",
        "device = torch.device(\"cuda:0\")\n",
        "model = model.to(device)\n",
        "optimizer = torch.optim.Adam(filter(lambda p: p.requires_grad, model.parameters()),lr=1e-3)\n",
        "#optimizer = torch.optim.SGD(model.parameters(),lr=1e-3)\n",
        "scheduler = torch.optim.lr_scheduler.StepLR(optimizer,step_size=300,gamma=0.1)\n",
        "loss = nn.MSELoss().to(device)\n",
        "summary(model, (1, 500))"
      ]
    },
    {
      "cell_type": "code",
      "execution_count": null,
      "metadata": {
        "id": "pb2OgbZIfAY6"
      },
      "outputs": [],
      "source": [
        "# Train the CNN\n",
        "train_loss_epoch = []\n",
        "test_loss_epoch = []\n",
        "for epoch in range(epochs):\n",
        "  train_losses = []\n",
        "  test_losses = []\n",
        "  for training in train_data:\n",
        "    model.train()\n",
        "    x_train = training[:,0,:].view(-1,1,500).type(torch.FloatTensor).to(device)\n",
        "    y_train = training[:,2,:].view(-1,1,500).type(torch.FloatTensor).to(device)\n",
        "    optimizer.zero_grad()\n",
        "    y_pred = model(x_train)\n",
        "    loss_train = loss(y_pred,y_train)\n",
        "    loss_train.backward()\n",
        "    optimizer.step()\n",
        "    train_losses.append(loss_train.item())\n",
        "  train_loss_epoch.append(np.mean(train_losses))\n",
        "  scheduler.step()\n",
        "\n",
        "  for testing in test_data:\n",
        "    model.eval()\n",
        "    x_test = testing[:,0,:].view(-1,1,500).type(torch.FloatTensor).to(device)\n",
        "    y_test = testing[:,2,:].view(-1,1,500).type(torch.FloatTensor).to(device)\n",
        "    y_pred = model(x_test)\n",
        "    loss_test = loss(y_pred,y_test)\n",
        "    test_losses.append(loss_test.item())\n",
        "  test_loss_epoch.append(np.mean(test_losses))\n",
        "\n",
        "  if (epoch%5)==0:\n",
        "    print(\"Epoch: %d      train loss: %f      test loss: %f\" %(epoch,np.mean(train_losses),np.mean(test_losses)))\n",
        "\n",
        "  if ((epoch%100)==99)|(epoch==0):\n",
        "    signal = y_test.view(-1,500).cpu().detach().numpy()\n",
        "    denoised = y_pred.view(-1,500).cpu().detach().numpy()\n",
        "    noisy = x_test.view(-1,500).cpu().detach().numpy()\n",
        "    plt.figure(figsize=(10,10))\n",
        "    plt.subplot(3,1,1)\n",
        "    plt.plot(signal[0])\n",
        "    plt.title('Pure Signal')\n",
        "    plt.subplot(3,1,2)\n",
        "    plt.plot(denoised[0])\n",
        "    plt.title('Denoised Signal')\n",
        "    plt.subplot(3,1,3)\n",
        "    plt.plot(noisy[0])\n",
        "    plt.title('Signal with Noise')\n"
      ]
    },
    {
      "cell_type": "code",
      "execution_count": null,
      "metadata": {
        "id": "3kEoalVurTMq"
      },
      "outputs": [],
      "source": [
        "# Save the trained CNN\n",
        "weight_trained = dict()\n",
        "weight_trained['conv1'] = model._modules['C0']._parameters['weight'].data.cpu().numpy()\n",
        "weight_trained['conv2'] = model._modules['C1']._parameters['weight'].data.cpu().numpy()\n",
        "weight_trained['conv3'] = model._modules['C2']._parameters['weight'].data.cpu().numpy()\n",
        "weight_trained['conv4'] = model._modules['C3']._parameters['weight'].data.cpu().numpy()\n",
        "weight_trained['conv5'] = model._modules['C4']._parameters['weight'].data.cpu().numpy()\n",
        "sio.savemat('/content/drive/MyDrive/denoiser/deconv122_9.mat', mdict=weight_trained)"
      ]
    }
  ],
  "metadata": {
    "accelerator": "GPU",
    "colab": {
      "collapsed_sections": [],
      "name": "constrained training",
      "provenance": []
    },
    "kernelspec": {
      "display_name": "Python 3",
      "name": "python3"
    },
    "language_info": {
      "name": "python"
    }
  },
  "nbformat": 4,
  "nbformat_minor": 0
}
